{
 "cells": [
  {
   "cell_type": "code",
   "execution_count": 164,
   "metadata": {},
   "outputs": [],
   "source": [
    "# Import libraries\n",
    "import os\n",
    "import re\n",
    "import json"
   ]
  },
  {
   "cell_type": "code",
   "execution_count": 67,
   "metadata": {},
   "outputs": [
    {
     "name": "stdout",
     "output_type": "stream",
     "text": [
      "The file: 'wine-ratings-small.csv' is the largest one at the folder sample_data\n"
     ]
    },
    {
     "data": {
      "text/plain": [
       "13551615"
      ]
     },
     "execution_count": 67,
     "metadata": {},
     "output_type": "execute_result"
    }
   ],
   "source": [
    "# Find all csv files\n",
    "list_files = os.listdir('sample_data')\n",
    "expression = re.compile(\".*csv\")\n",
    "\n",
    "list_csv_files = list(filter(expression.match, list_files))\n",
    "\n",
    "\n",
    "# Retrieve csv files size\n",
    "csv_dict = {}\n",
    "for csv_file in list_csv_files:\n",
    "    csv_dict[csv_file] = os.path.getsize('sample_data/'+csv_file)\n",
    "\n",
    "\n",
    "# get name of file with smaller size\n",
    "name_min_size = \"\"\n",
    "\n",
    "for keys in csv_dict:\n",
    "    if csv_dict[keys] == min(csv_dict.values()):\n",
    "        name_min_size = keys\n",
    "    else:\n",
    "        continue\n",
    "\n",
    "print(f\"The file: '{name_min_size}' is the largest one at the folder sample_data\")"
   ]
  },
  {
   "cell_type": "code",
   "execution_count": 161,
   "metadata": {},
   "outputs": [
    {
     "data": {
      "text/html": [
       "<div>\n",
       "<style scoped>\n",
       "    .dataframe tbody tr th:only-of-type {\n",
       "        vertical-align: middle;\n",
       "    }\n",
       "\n",
       "    .dataframe tbody tr th {\n",
       "        vertical-align: top;\n",
       "    }\n",
       "\n",
       "    .dataframe thead th {\n",
       "        text-align: right;\n",
       "    }\n",
       "</style>\n",
       "<table border=\"1\" class=\"dataframe\">\n",
       "  <thead>\n",
       "    <tr style=\"text-align: right;\">\n",
       "      <th></th>\n",
       "      <th>name</th>\n",
       "      <th>grape</th>\n",
       "      <th>region</th>\n",
       "      <th>variety</th>\n",
       "      <th>rating</th>\n",
       "      <th>notes</th>\n",
       "    </tr>\n",
       "  </thead>\n",
       "  <tbody>\n",
       "    <tr>\n",
       "      <th>132</th>\n",
       "      <td>Le Colture Brut Rose</td>\n",
       "      <td>NaN</td>\n",
       "      <td>Prosecco, Italy</td>\n",
       "      <td>Sparkling &amp; Champagne</td>\n",
       "      <td>90.0</td>\n",
       "      <td>The Brut Rose is a sparkling wine, made in the...</td>\n",
       "    </tr>\n",
       "    <tr>\n",
       "      <th>133</th>\n",
       "      <td>Le Colture Fagher Prosecco Superiore Brut</td>\n",
       "      <td>NaN</td>\n",
       "      <td>Valdobbiadene, Prosecco, Italy</td>\n",
       "      <td>Sparkling &amp; Champagne</td>\n",
       "      <td>90.0</td>\n",
       "      <td>Its most attractive elements are encapsulated ...</td>\n",
       "    </tr>\n",
       "    <tr>\n",
       "      <th>134</th>\n",
       "      <td>Le Colture Prosecco Superiore di Cartizze</td>\n",
       "      <td>NaN</td>\n",
       "      <td>Valdobbiadene, Prosecco, Italy</td>\n",
       "      <td>Sparkling &amp; Champagne</td>\n",
       "      <td>90.0</td>\n",
       "      <td>Considered the Grand Cru of Prosecco the tiny ...</td>\n",
       "    </tr>\n",
       "  </tbody>\n",
       "</table>\n",
       "</div>"
      ],
      "text/plain": [
       "                                          name  grape  \\\n",
       "132                       Le Colture Brut Rose    NaN   \n",
       "133  Le Colture Fagher Prosecco Superiore Brut    NaN   \n",
       "134  Le Colture Prosecco Superiore di Cartizze    NaN   \n",
       "\n",
       "                             region                variety  rating  \\\n",
       "132                 Prosecco, Italy  Sparkling & Champagne    90.0   \n",
       "133  Valdobbiadene, Prosecco, Italy  Sparkling & Champagne    90.0   \n",
       "134  Valdobbiadene, Prosecco, Italy  Sparkling & Champagne    90.0   \n",
       "\n",
       "                                                 notes  \n",
       "132  The Brut Rose is a sparkling wine, made in the...  \n",
       "133  Its most attractive elements are encapsulated ...  \n",
       "134  Considered the Grand Cru of Prosecco the tiny ...  "
      ]
     },
     "execution_count": 161,
     "metadata": {},
     "output_type": "execute_result"
    }
   ],
   "source": [
    "import pandas as pd\n",
    "\n",
    "df = pd.read_csv(\"sample_data/\" + name_min_size, index_col=[0])\n",
    "df.head()\n",
    "\n",
    "# Select Sparkling & Champagne with a rating of 90 or more and coming from Italy\n",
    "variety_filter = \"Sparkling & Champagne\"\n",
    "rating_filter = 90\n",
    "region_filter = \"Italy\"\n",
    "\n",
    "df_filtered = df[(df[\"variety\"] == variety_filter) & \n",
    "                (df[\"rating\"] >= rating_filter) &\n",
    "                df_filtered[\"region\"].str.contains(region_filter)]\n",
    "df_filtered"
   ]
  },
  {
   "cell_type": "code",
   "execution_count": 166,
   "metadata": {},
   "outputs": [],
   "source": [
    "# Saving the result of the dataframe as a new file\n",
    "\n",
    "file_name = \"exercise_json.json\"\n",
    "\n",
    "with open(file_name, 'w') as f:\n",
    "    json.dump(df_filtered.to_json(), f)"
   ]
  }
 ],
 "metadata": {
  "kernelspec": {
   "display_name": "Python 3",
   "language": "python",
   "name": "python3"
  },
  "language_info": {
   "codemirror_mode": {
    "name": "ipython",
    "version": 3
   },
   "file_extension": ".py",
   "mimetype": "text/x-python",
   "name": "python",
   "nbconvert_exporter": "python",
   "pygments_lexer": "ipython3",
   "version": "3.10.3"
  },
  "orig_nbformat": 4,
  "vscode": {
   "interpreter": {
    "hash": "7cb176315d1b334180b6af9fe4839184c771682056334f245fd0d7c99b98cf46"
   }
  }
 },
 "nbformat": 4,
 "nbformat_minor": 2
}
