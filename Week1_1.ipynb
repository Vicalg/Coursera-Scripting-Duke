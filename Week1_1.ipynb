{
 "cells": [
  {
   "cell_type": "code",
   "execution_count": 7,
   "metadata": {},
   "outputs": [],
   "source": [
    "# Import libraries\n",
    "import os\n",
    "import re"
   ]
  },
  {
   "cell_type": "code",
   "execution_count": 51,
   "metadata": {},
   "outputs": [
    {
     "name": "stdout",
     "output_type": "stream",
     "text": [
      "The file: 'wine-ratings.csv' is the largest one at the folder sample_data\n"
     ]
    }
   ],
   "source": [
    "# Find all csv files\n",
    "list_files = os.listdir('sample_data')\n",
    "expression = re.compile(\".*csv\")\n",
    "\n",
    "list_csv_files = list(filter(expression.match, list_files))\n",
    "\n",
    "\n",
    "# Retrieve csv files size\n",
    "csv_dict = {}\n",
    "for csv_file in list_csv_files:\n",
    "    csv_dict[csv_file] = os.path.getsize('sample_data/'+csv_file)\n",
    "\n",
    "\n",
    "# get name of file with larger size\n",
    "name_max_size = \"\"\n",
    "\n",
    "for keys in csv_dict:\n",
    "    if csv_dict[keys] == max(csv_dict.values()):\n",
    "        file_max_size = keys\n",
    "    else:\n",
    "        continue\n",
    "\n",
    "print(f\"The file: '{file_max_size}' is the largest one at the folder sample_data\")"
   ]
  },
  {
   "cell_type": "code",
   "execution_count": null,
   "metadata": {},
   "outputs": [],
   "source": [
    "# load csv file into a variable\n",
    "with open(\"\")"
   ]
  }
 ],
 "metadata": {
  "kernelspec": {
   "display_name": "Python 3",
   "language": "python",
   "name": "python3"
  },
  "language_info": {
   "codemirror_mode": {
    "name": "ipython",
    "version": 3
   },
   "file_extension": ".py",
   "mimetype": "text/x-python",
   "name": "python",
   "nbconvert_exporter": "python",
   "pygments_lexer": "ipython3",
   "version": "3.10.3"
  },
  "orig_nbformat": 4,
  "vscode": {
   "interpreter": {
    "hash": "7cb176315d1b334180b6af9fe4839184c771682056334f245fd0d7c99b98cf46"
   }
  }
 },
 "nbformat": 4,
 "nbformat_minor": 2
}
